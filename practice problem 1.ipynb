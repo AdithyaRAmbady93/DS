{
 "cells": [
  {
   "cell_type": "code",
   "execution_count": 1,
   "id": "69ac64f3",
   "metadata": {},
   "outputs": [
    {
     "name": "stdout",
     "output_type": "stream",
     "text": [
      "Enter the Radius : 3\n",
      "Area of Circle is  28.274309999999996\n"
     ]
    }
   ],
   "source": [
    "# program 1\n",
    "\n",
    "r = float(input(\"Enter the Radius : \"))\n",
    "a = 3.14159 * r * r\n",
    "print(\"Area of Circle is \",a)"
   ]
  },
  {
   "cell_type": "code",
   "execution_count": 2,
   "id": "8677ba20",
   "metadata": {},
   "outputs": [
    {
     "name": "stdout",
     "output_type": "stream",
     "text": [
      "Enter the Radius : 2.5\n",
      "Area of Circle is  19.6349375\n"
     ]
    }
   ],
   "source": [
    "r = float(input(\"Enter the Radius : \"))\n",
    "a = 3.14159 * r * r\n",
    "print(\"Area of Circle is \",a)"
   ]
  },
  {
   "cell_type": "code",
   "execution_count": 3,
   "id": "456b7d26",
   "metadata": {},
   "outputs": [
    {
     "name": "stdout",
     "output_type": "stream",
     "text": [
      "Enter the Name : ADITHYA\n",
      "Enter the Rollnumber : 13\n",
      "Enter the Mark : 79\n",
      "NAME :  ADITHYA\n",
      "ROLL NO :  13\n",
      "MARK :  79.0\n"
     ]
    }
   ],
   "source": [
    "## program 2\n",
    "\n",
    "n = str(input(\"Enter the Name : \"))\n",
    "rn = int(input(\"Enter the Rollnumber : \"))\n",
    "mark = float(input(\"Enter the Mark : \"))\n",
    "print(\"NAME : \",n)\n",
    "print(\"ROLL NO : \",rn)\n",
    "print(\"MARK : \",mark)"
   ]
  },
  {
   "cell_type": "code",
   "execution_count": 9,
   "id": "bac2396d",
   "metadata": {},
   "outputs": [
    {
     "name": "stdout",
     "output_type": "stream",
     "text": [
      "Largest number is :  71\n"
     ]
    }
   ],
   "source": [
    "## program 9\n",
    "\n",
    "List =[12,71,47]\n",
    "m = max(List)\n",
    "print(\"Largest number is : \",m)"
   ]
  },
  {
   "cell_type": "code",
   "execution_count": 2,
   "id": "3135b7df",
   "metadata": {},
   "outputs": [
    {
     "name": "stdout",
     "output_type": "stream",
     "text": [
      "Enter first number : 45\n",
      "Enter second number: 65\n",
      "Enter third number: 8\n",
      "The numbers are :  45 65 8\n",
      "maximum is :  65\n"
     ]
    }
   ],
   "source": [
    "\n",
    "num1 = int(input(\"Enter first number : \"))\n",
    "num2 = int(input(\"Enter second number: \"))\n",
    "num3 = int(input(\"Enter third number: \"))\n",
    "print(\"The numbers are : \",num1,num2,num3)\n",
    "if(num1>=num2) and (num1>=num3):\n",
    "    maxi = num1\n",
    "elif (num2>=num1) and (num2>=num3):\n",
    "     maxi= num2\n",
    "else:\n",
    "    maxi = num3\n",
    "print(\"maximum is : \",maxi)\n",
    "    "
   ]
  },
  {
   "cell_type": "code",
   "execution_count": 13,
   "id": "71fb0485",
   "metadata": {},
   "outputs": [
    {
     "name": "stdout",
     "output_type": "stream",
     "text": [
      " \n",
      "* \n",
      "** \n",
      "*** \n",
      "**** \n",
      "*****\n",
      "****\n",
      "***\n",
      "**\n",
      "*\n"
     ]
    }
   ],
   "source": [
    "## program 10\n",
    "\n",
    "n = 5\n",
    "for i in range(n):\n",
    "    for j in range(i):\n",
    "        print ('*', end= \"\")\n",
    "    print(' ')\n",
    "\n",
    "for i in range(n,0,-1):\n",
    "    for j in range(i):\n",
    "        print('*', end=\"\")\n",
    "    print()"
   ]
  },
  {
   "cell_type": "code",
   "execution_count": 29,
   "id": "f967b68e",
   "metadata": {},
   "outputs": [
    {
     "name": "stdout",
     "output_type": "stream",
     "text": [
      "*\n",
      "**\n",
      "***\n",
      "****\n",
      "*****\n",
      "\n"
     ]
    }
   ],
   "source": [
    "#program 8\n",
    "\n",
    "rows = 5\n",
    "for i in range(0,rows):\n",
    "    for j in range(0,i+1):\n",
    "        print(\"*\", end='') \n",
    "    print(\"\")\n",
    "print(\"\")  "
   ]
  },
  {
   "cell_type": "code",
   "execution_count": 3,
   "id": "6c454a65",
   "metadata": {},
   "outputs": [
    {
     "name": "stdout",
     "output_type": "stream",
     "text": [
      "Enter the numbers: 13\n",
      "13 is a prime number\n"
     ]
    }
   ],
   "source": [
    "## program 6\n",
    "\n",
    "number = int(input(\"Enter the numbers: \"))\n",
    "if number > 1:\n",
    "    for i in range(2, number):\n",
    "        if (number % i) == 0:\n",
    "            print(number, \"is not a prime number\")\n",
    "            break\n",
    "    else:\n",
    "        print(number, \"is a prime number\")\n",
    "else:\n",
    "    print(number, \"is not a prime number\")"
   ]
  },
  {
   "cell_type": "code",
   "execution_count": 5,
   "id": "9a2973ce",
   "metadata": {},
   "outputs": [
    {
     "name": "stdout",
     "output_type": "stream",
     "text": [
      "Enter the numbers: 35\n",
      "35 is not a prime number\n"
     ]
    }
   ],
   "source": [
    "number = int(input(\"Enter the numbers: \"))\n",
    "if number > 1:\n",
    "    for i in range(2, number):\n",
    "        if (number % i) == 0:\n",
    "            print(number, \"is not a prime number\")\n",
    "            break\n",
    "    else:\n",
    "        print(number, \"is a prime number\")\n",
    "else:\n",
    "    print(number, \"is not a prime number\")"
   ]
  },
  {
   "cell_type": "code",
   "execution_count": 6,
   "id": "959a82c7",
   "metadata": {},
   "outputs": [
    {
     "name": "stdout",
     "output_type": "stream",
     "text": [
      "[85, 44, 33, 67]\n",
      "85 is the largest number\n"
     ]
    }
   ],
   "source": [
    "#program 3\n",
    "\n",
    "List= [85,44,33,67]\n",
    "\n",
    "print(List)\n",
    "print(max(List),\"is the largest number\")\n"
   ]
  },
  {
   "cell_type": "code",
   "execution_count": 6,
   "id": "bf4ee37b",
   "metadata": {},
   "outputs": [
    {
     "name": "stdout",
     "output_type": "stream",
     "text": [
      "Current number 1 Previous number 0 sum: 1\n",
      "Current number 2 Previous number 1 sum: 3\n",
      "Current number 3 Previous number 2 sum: 5\n",
      "Current number 4 Previous number 3 sum: 7\n",
      "Current number 5 Previous number 4 sum: 9\n",
      "Current number 6 Previous number 5 sum: 11\n",
      "Current number 7 Previous number 6 sum: 13\n",
      "Current number 8 Previous number 7 sum: 15\n",
      "Current number 9 Previous number 8 sum: 17\n",
      "Current number 10 Previous number 9 sum: 19\n"
     ]
    }
   ],
   "source": [
    "## program 4\n",
    "\n",
    "p_no=0\n",
    "for i in range(1,11):\n",
    "    sum = p_no + i\n",
    "    print(\"Current number\",i,\"Previous number\",p_no,\"sum:\",p_no+i)\n",
    "    p_no = i\n",
    "    "
   ]
  },
  {
   "cell_type": "code",
   "execution_count": 9,
   "id": "088a4acf",
   "metadata": {},
   "outputs": [
    {
     "name": "stdout",
     "output_type": "stream",
     "text": [
      "[10, 27, 88, 45, 6]\n",
      "[6, 45, 88, 27, 10]\n"
     ]
    }
   ],
   "source": [
    "##program 7\n",
    "\n",
    "list1 = [10,27,88,45,6]\n",
    "print(list1)\n",
    "l=len(list1)\n",
    "list2=[]\n",
    "for i in range(l-1,-1,-1):\n",
    "    list2.append(list1[i])\n",
    "print(list2)\n",
    "\n"
   ]
  },
  {
   "cell_type": "code",
   "execution_count": 10,
   "id": "ad06d0ef",
   "metadata": {},
   "outputs": [
    {
     "name": "stdout",
     "output_type": "stream",
     "text": [
      "[12, 45, 78, 54, 65, 5]\n",
      "[45, 65, 5]\n"
     ]
    }
   ],
   "source": [
    "## program 5\n",
    "\n",
    "l1 = [12,45,78,54,65,5]\n",
    "print(l1)\n",
    "l2 = []\n",
    "for i in l1:\n",
    "    if i%5==0:\n",
    "        l2.append(i)\n",
    "print(l2)        \n",
    "    "
   ]
  },
  {
   "cell_type": "code",
   "execution_count": null,
   "id": "bc486e92",
   "metadata": {},
   "outputs": [],
   "source": []
  }
 ],
 "metadata": {
  "kernelspec": {
   "display_name": "Python 3 (ipykernel)",
   "language": "python",
   "name": "python3"
  },
  "language_info": {
   "codemirror_mode": {
    "name": "ipython",
    "version": 3
   },
   "file_extension": ".py",
   "mimetype": "text/x-python",
   "name": "python",
   "nbconvert_exporter": "python",
   "pygments_lexer": "ipython3",
   "version": "3.11.3"
  }
 },
 "nbformat": 4,
 "nbformat_minor": 5
}
